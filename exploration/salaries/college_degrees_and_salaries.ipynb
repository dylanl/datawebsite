{
 "cells": [
  {
   "cell_type": "markdown",
   "metadata": {
    "colab_type": "text",
    "id": "view-in-github"
   },
   "source": [
    "<a href=\"https://colab.research.google.com/gist/CharlieADavies/d77890895f607ce9a9c447e0db5eb14c/data.ipynb\" target=\"_parent\"><img src=\"https://colab.research.google.com/assets/colab-badge.svg\" alt=\"Open In Colab\"/></a>"
   ]
  },
  {
   "cell_type": "code",
   "execution_count": 1,
   "metadata": {
    "tags": []
   },
   "outputs": [
    {
     "name": "stdout",
     "output_type": "stream",
     "text": [
      "Requirement already satisfied: pandas in c:\\users\\cd\\gitrepos\\datawebsite\\venv\\lib\\site-packages (1.4.1)\n",
      "Requirement already satisfied: seaborn in c:\\users\\cd\\gitrepos\\datawebsite\\venv\\lib\\site-packages (0.11.2)\n",
      "Requirement already satisfied: plotly in c:\\users\\cd\\gitrepos\\datawebsite\\venv\\lib\\site-packages (5.6.0)\n",
      "Requirement already satisfied: openpyxl in c:\\users\\cd\\gitrepos\\datawebsite\\venv\\lib\\site-packages (3.0.9)\n",
      "Requirement already satisfied: numpy>=1.18.5 in c:\\users\\cd\\gitrepos\\datawebsite\\venv\\lib\\site-packages (from pandas) (1.22.3)\n",
      "Requirement already satisfied: python-dateutil>=2.8.1 in c:\\users\\cd\\gitrepos\\datawebsite\\venv\\lib\\site-packages (from pandas) (2.8.2)\n",
      "Requirement already satisfied: pytz>=2020.1 in c:\\users\\cd\\gitrepos\\datawebsite\\venv\\lib\\site-packages (from pandas) (2021.3)\n",
      "Requirement already satisfied: matplotlib>=2.2 in c:\\users\\cd\\gitrepos\\datawebsite\\venv\\lib\\site-packages (from seaborn) (3.5.1)\n",
      "Requirement already satisfied: scipy>=1.0 in c:\\users\\cd\\gitrepos\\datawebsite\\venv\\lib\\site-packages (from seaborn) (1.8.0)\n",
      "Requirement already satisfied: tenacity>=6.2.0 in c:\\users\\cd\\gitrepos\\datawebsite\\venv\\lib\\site-packages (from plotly) (8.0.1)\n",
      "Requirement already satisfied: six in c:\\users\\cd\\gitrepos\\datawebsite\\venv\\lib\\site-packages (from plotly) (1.16.0)\n",
      "Requirement already satisfied: et-xmlfile in c:\\users\\cd\\gitrepos\\datawebsite\\venv\\lib\\site-packages (from openpyxl) (1.1.0)\n",
      "Requirement already satisfied: cycler>=0.10 in c:\\users\\cd\\gitrepos\\datawebsite\\venv\\lib\\site-packages (from matplotlib>=2.2->seaborn) (0.11.0)\n",
      "Requirement already satisfied: packaging>=20.0 in c:\\users\\cd\\gitrepos\\datawebsite\\venv\\lib\\site-packages (from matplotlib>=2.2->seaborn) (21.3)\n",
      "Requirement already satisfied: pillow>=6.2.0 in c:\\users\\cd\\gitrepos\\datawebsite\\venv\\lib\\site-packages (from matplotlib>=2.2->seaborn) (9.0.1)\n",
      "Requirement already satisfied: kiwisolver>=1.0.1 in c:\\users\\cd\\gitrepos\\datawebsite\\venv\\lib\\site-packages (from matplotlib>=2.2->seaborn) (1.3.2)\n",
      "Requirement already satisfied: pyparsing>=2.2.1 in c:\\users\\cd\\gitrepos\\datawebsite\\venv\\lib\\site-packages (from matplotlib>=2.2->seaborn) (3.0.7)\n",
      "Requirement already satisfied: fonttools>=4.22.0 in c:\\users\\cd\\gitrepos\\datawebsite\\venv\\lib\\site-packages (from matplotlib>=2.2->seaborn) (4.30.0)\n"
     ]
    },
    {
     "name": "stderr",
     "output_type": "stream",
     "text": [
      "WARNING: You are using pip version 21.2.4; however, version 22.0.4 is available.\n",
      "You should consider upgrading via the 'C:\\Users\\cd\\gitrepos\\datawebsite\\venv\\Scripts\\python.exe -m pip install --upgrade pip' command.\n"
     ]
    }
   ],
   "source": [
    "!pip install pandas seaborn plotly openpyxl"
   ]
  },
  {
   "cell_type": "code",
   "execution_count": 3,
   "metadata": {},
   "outputs": [],
   "source": [
    "import plotly.io as pio\n",
    "pio.renderers.default_rdenderer = 'jupyterlab'"
   ]
  },
  {
   "cell_type": "code",
   "execution_count": 4,
   "metadata": {
    "colab": {
     "base_uri": "https://localhost:8080/",
     "height": 643
    },
    "id": "djiazbCCyIML",
    "outputId": "672f7ec8-c246-4bc4-93e5-056548b2a46a"
   },
   "outputs": [
    {
     "name": "stderr",
     "output_type": "stream",
     "text": [
      "C:\\Users\\cd\\gitrepos\\datawebsite\\venv\\lib\\site-packages\\openpyxl\\styles\\stylesheet.py:226: UserWarning:\n",
      "\n",
      "Workbook contains no default style, apply openpyxl's default\n",
      "\n"
     ]
    }
   ],
   "source": [
    "import pandas as pd\n",
    "# df = pd.read_excel(\"../data/nsf21308-tab048.xlsx\", header=4)\n",
    "import seaborn as sns\n",
    "\n",
    "df = pd.read_excel('https://ncses.nsf.gov/pubs/nsf21308/assets/data-tables/tables/nsf21308-tab048.xlsx',header=4)\n",
    "\n",
    "df = df.rename(columns={\n",
    "    'Unnamed: 0' : 'Field',\n",
    "    'Male' : 'TotalMale',\n",
    "    'Female' : 'TotalFemale',\n",
    "    'Total' : 'EmploymentTotal',\n",
    "    'Male.1':'EmploymentMale',\n",
    "    'Female.1':'EmploymentFemale',\n",
    "    'Total.1':'PostdoctoralStudyTotal',\n",
    "    'Male.2': 'PostdoctoralStudyMale',\n",
    "    'Female.2': 'PostdoctoralStudyFemale'})"
   ]
  },
  {
   "cell_type": "code",
   "execution_count": 12,
   "metadata": {
    "colab": {
     "base_uri": "https://localhost:8080/",
     "height": 354
    },
    "id": "ajalDF_5yf3E",
    "outputId": "a5c54bcb-7c71-4613-85d2-5cdec00c01c8"
   },
   "outputs": [
    {
     "data": {
      "text/html": [
       "<div>\n",
       "<style scoped>\n",
       "    .dataframe tbody tr th:only-of-type {\n",
       "        vertical-align: middle;\n",
       "    }\n",
       "\n",
       "    .dataframe tbody tr th {\n",
       "        vertical-align: top;\n",
       "    }\n",
       "\n",
       "    .dataframe thead th {\n",
       "        text-align: right;\n",
       "    }\n",
       "</style>\n",
       "<table border=\"1\" class=\"dataframe\">\n",
       "  <thead>\n",
       "    <tr style=\"text-align: right;\">\n",
       "      <th></th>\n",
       "      <th>Field</th>\n",
       "      <th>TotalMale</th>\n",
       "      <th>TotalFemale</th>\n",
       "      <th>EmploymentTotal</th>\n",
       "      <th>EmploymentMale</th>\n",
       "      <th>EmploymentFemale</th>\n",
       "      <th>PostdoctoralStudyTotal</th>\n",
       "      <th>PostdoctoralStudyMale</th>\n",
       "      <th>PostdoctoralStudyFemale</th>\n",
       "    </tr>\n",
       "  </thead>\n",
       "  <tbody>\n",
       "    <tr>\n",
       "      <th>0</th>\n",
       "      <td>All fields</td>\n",
       "      <td>70000.0</td>\n",
       "      <td>60000.0</td>\n",
       "      <td>83000.0</td>\n",
       "      <td>95000.0</td>\n",
       "      <td>72500.0</td>\n",
       "      <td>50000.0</td>\n",
       "      <td>50000.0</td>\n",
       "      <td>50000.0</td>\n",
       "    </tr>\n",
       "    <tr>\n",
       "      <th>1</th>\n",
       "      <td>Science and engineering</td>\n",
       "      <td>70000.0</td>\n",
       "      <td>59530.0</td>\n",
       "      <td>92000.0</td>\n",
       "      <td>100000.0</td>\n",
       "      <td>80000.0</td>\n",
       "      <td>50000.0</td>\n",
       "      <td>50000.0</td>\n",
       "      <td>50000.0</td>\n",
       "    </tr>\n",
       "    <tr>\n",
       "      <th>2</th>\n",
       "      <td>Life sciences</td>\n",
       "      <td>52000.0</td>\n",
       "      <td>52500.0</td>\n",
       "      <td>82000.0</td>\n",
       "      <td>87000.0</td>\n",
       "      <td>80000.0</td>\n",
       "      <td>50000.0</td>\n",
       "      <td>50000.0</td>\n",
       "      <td>50000.0</td>\n",
       "    </tr>\n",
       "    <tr>\n",
       "      <th>3</th>\n",
       "      <td>Agricultural sciences and natural resources</td>\n",
       "      <td>55000.0</td>\n",
       "      <td>55000.0</td>\n",
       "      <td>75000.0</td>\n",
       "      <td>80000.0</td>\n",
       "      <td>70116.0</td>\n",
       "      <td>49000.0</td>\n",
       "      <td>48216.0</td>\n",
       "      <td>49000.0</td>\n",
       "    </tr>\n",
       "    <tr>\n",
       "      <th>4</th>\n",
       "      <td>Biological and biomedical sciences</td>\n",
       "      <td>50004.0</td>\n",
       "      <td>50000.0</td>\n",
       "      <td>85000.0</td>\n",
       "      <td>90000.0</td>\n",
       "      <td>80000.0</td>\n",
       "      <td>50000.0</td>\n",
       "      <td>50000.0</td>\n",
       "      <td>50000.0</td>\n",
       "    </tr>\n",
       "  </tbody>\n",
       "</table>\n",
       "</div>"
      ],
      "text/plain": [
       "                                         Field  TotalMale  TotalFemale  \\\n",
       "0                                   All fields    70000.0      60000.0   \n",
       "1                      Science and engineering    70000.0      59530.0   \n",
       "2                                Life sciences    52000.0      52500.0   \n",
       "3  Agricultural sciences and natural resources    55000.0      55000.0   \n",
       "4           Biological and biomedical sciences    50004.0      50000.0   \n",
       "\n",
       "   EmploymentTotal  EmploymentMale  EmploymentFemale  PostdoctoralStudyTotal  \\\n",
       "0          83000.0         95000.0           72500.0                 50000.0   \n",
       "1          92000.0        100000.0           80000.0                 50000.0   \n",
       "2          82000.0         87000.0           80000.0                 50000.0   \n",
       "3          75000.0         80000.0           70116.0                 49000.0   \n",
       "4          85000.0         90000.0           80000.0                 50000.0   \n",
       "\n",
       "   PostdoctoralStudyMale  PostdoctoralStudyFemale  \n",
       "0                50000.0                  50000.0  \n",
       "1                50000.0                  50000.0  \n",
       "2                50000.0                  50000.0  \n",
       "3                48216.0                  49000.0  \n",
       "4                50000.0                  50000.0  "
      ]
     },
     "execution_count": 12,
     "metadata": {},
     "output_type": "execute_result"
    }
   ],
   "source": [
    "df.head()"
   ]
  },
  {
   "cell_type": "code",
   "execution_count": 125,
   "metadata": {
    "colab": {
     "base_uri": "https://localhost:8080/",
     "height": 554
    },
    "id": "s21R9tAY1mJN",
    "outputId": "f0ad5273-4f35-4a6e-df50-06b514844a27"
   },
   "outputs": [
    {
     "data": {
      "application/vnd.plotly.v1+json": {
       "config": {
        "plotlyServerURL": "https://plot.ly"
       },
       "data": [
        {
         "marker": {
          "color": "#3627fd"
         },
         "name": "EmploymentMale",
         "orientation": "h",
         "type": "bar",
         "x": [
          95000,
          100000,
          87000,
          80000,
          90000,
          88739,
          100000,
          97000,
          76750,
          110000,
          125000,
          77000,
          71002,
          115000,
          68018,
          105000,
          69000,
          73000,
          53000,
          130000,
          67500
         ],
         "y": [
          "All fields",
          "Science and engineering",
          "Life sciences",
          "Agricultural sciences and natural resources",
          "Biological and biomedical sciences",
          "Health sciences",
          "Physical sciences and earth sciences",
          "Chemistry",
          "Geosciences, atmospheric sciences, and ocean sciences",
          "Physics and astronomy",
          "Mathematics and computer sciences",
          "Psychology and social sciences ",
          "Psychology",
          "Economics",
          "Social sciencesb",
          "Engineering",
          "Non-science and engineering",
          "Education",
          "Humanities and arts",
          "Business management and administration",
          "Other non-S&E fieldsc"
         ]
        },
        {
         "marker": {
          "color": "#7973fc"
         },
         "name": "PostdoctoralStudyMale",
         "orientation": "h",
         "type": "bar",
         "x": [
          50000,
          50000,
          50000,
          48216,
          50000,
          50000,
          50004,
          48950,
          54000,
          58000,
          61500,
          50000,
          48700,
          65000,
          54000,
          50000,
          50000,
          53000,
          50000,
          75000,
          55000
         ],
         "y": [
          "All fields",
          "Science and engineering",
          "Life sciences",
          "Agricultural sciences and natural resources",
          "Biological and biomedical sciences",
          "Health sciences",
          "Physical sciences and earth sciences",
          "Chemistry",
          "Geosciences, atmospheric sciences, and ocean sciences",
          "Physics and astronomy",
          "Mathematics and computer sciences",
          "Psychology and social sciences ",
          "Psychology",
          "Economics",
          "Social sciencesb",
          "Engineering",
          "Non-science and engineering",
          "Education",
          "Humanities and arts",
          "Business management and administration",
          "Other non-S&E fieldsc"
         ]
        },
        {
         "marker": {
          "color": "#fb5dfd"
         },
         "name": "EmploymentFemale",
         "orientation": "h",
         "type": "bar",
         "x": [
          72500,
          80000,
          80000,
          70116,
          80000,
          85000,
          90000,
          92250,
          67000,
          102500,
          101500,
          69000,
          66050,
          120000,
          65000,
          100000,
          65000,
          68000,
          53000,
          125000,
          65000
         ],
         "y": [
          "All fields",
          "Science and engineering",
          "Life sciences",
          "Agricultural sciences and natural resources",
          "Biological and biomedical sciences",
          "Health sciences",
          "Physical sciences and earth sciences",
          "Chemistry",
          "Geosciences, atmospheric sciences, and ocean sciences",
          "Physics and astronomy",
          "Mathematics and computer sciences",
          "Psychology and social sciences ",
          "Psychology",
          "Economics",
          "Social sciencesb",
          "Engineering",
          "Non-science and engineering",
          "Education",
          "Humanities and arts",
          "Business management and administration",
          "Other non-S&E fieldsc"
         ]
        },
        {
         "marker": {
          "color": "#fcacfe"
         },
         "name": "PostdoctoralStudyFemale",
         "orientation": "h",
         "type": "bar",
         "x": [
          50000,
          50000,
          50000,
          49000,
          50000,
          50000,
          50760,
          49000,
          55000,
          60295,
          60000,
          48500,
          48000,
          65000,
          52000,
          50000,
          50000,
          50000,
          50000,
          65000,
          50000
         ],
         "y": [
          "All fields",
          "Science and engineering",
          "Life sciences",
          "Agricultural sciences and natural resources",
          "Biological and biomedical sciences",
          "Health sciences",
          "Physical sciences and earth sciences",
          "Chemistry",
          "Geosciences, atmospheric sciences, and ocean sciences",
          "Physics and astronomy",
          "Mathematics and computer sciences",
          "Psychology and social sciences ",
          "Psychology",
          "Economics",
          "Social sciencesb",
          "Engineering",
          "Non-science and engineering",
          "Education",
          "Humanities and arts",
          "Business management and administration",
          "Other non-S&E fieldsc"
         ]
        }
       ],
       "layout": {
        "autosize": true,
        "template": {
         "data": {
          "bar": [
           {
            "error_x": {
             "color": "#2a3f5f"
            },
            "error_y": {
             "color": "#2a3f5f"
            },
            "marker": {
             "line": {
              "color": "#E5ECF6",
              "width": 0.5
             },
             "pattern": {
              "fillmode": "overlay",
              "size": 10,
              "solidity": 0.2
             }
            },
            "type": "bar"
           }
          ],
          "barpolar": [
           {
            "marker": {
             "line": {
              "color": "#E5ECF6",
              "width": 0.5
             },
             "pattern": {
              "fillmode": "overlay",
              "size": 10,
              "solidity": 0.2
             }
            },
            "type": "barpolar"
           }
          ],
          "carpet": [
           {
            "aaxis": {
             "endlinecolor": "#2a3f5f",
             "gridcolor": "white",
             "linecolor": "white",
             "minorgridcolor": "white",
             "startlinecolor": "#2a3f5f"
            },
            "baxis": {
             "endlinecolor": "#2a3f5f",
             "gridcolor": "white",
             "linecolor": "white",
             "minorgridcolor": "white",
             "startlinecolor": "#2a3f5f"
            },
            "type": "carpet"
           }
          ],
          "choropleth": [
           {
            "colorbar": {
             "outlinewidth": 0,
             "ticks": ""
            },
            "type": "choropleth"
           }
          ],
          "contour": [
           {
            "colorbar": {
             "outlinewidth": 0,
             "ticks": ""
            },
            "colorscale": [
             [
              0,
              "#0d0887"
             ],
             [
              0.1111111111111111,
              "#46039f"
             ],
             [
              0.2222222222222222,
              "#7201a8"
             ],
             [
              0.3333333333333333,
              "#9c179e"
             ],
             [
              0.4444444444444444,
              "#bd3786"
             ],
             [
              0.5555555555555556,
              "#d8576b"
             ],
             [
              0.6666666666666666,
              "#ed7953"
             ],
             [
              0.7777777777777778,
              "#fb9f3a"
             ],
             [
              0.8888888888888888,
              "#fdca26"
             ],
             [
              1,
              "#f0f921"
             ]
            ],
            "type": "contour"
           }
          ],
          "contourcarpet": [
           {
            "colorbar": {
             "outlinewidth": 0,
             "ticks": ""
            },
            "type": "contourcarpet"
           }
          ],
          "heatmap": [
           {
            "colorbar": {
             "outlinewidth": 0,
             "ticks": ""
            },
            "colorscale": [
             [
              0,
              "#0d0887"
             ],
             [
              0.1111111111111111,
              "#46039f"
             ],
             [
              0.2222222222222222,
              "#7201a8"
             ],
             [
              0.3333333333333333,
              "#9c179e"
             ],
             [
              0.4444444444444444,
              "#bd3786"
             ],
             [
              0.5555555555555556,
              "#d8576b"
             ],
             [
              0.6666666666666666,
              "#ed7953"
             ],
             [
              0.7777777777777778,
              "#fb9f3a"
             ],
             [
              0.8888888888888888,
              "#fdca26"
             ],
             [
              1,
              "#f0f921"
             ]
            ],
            "type": "heatmap"
           }
          ],
          "heatmapgl": [
           {
            "colorbar": {
             "outlinewidth": 0,
             "ticks": ""
            },
            "colorscale": [
             [
              0,
              "#0d0887"
             ],
             [
              0.1111111111111111,
              "#46039f"
             ],
             [
              0.2222222222222222,
              "#7201a8"
             ],
             [
              0.3333333333333333,
              "#9c179e"
             ],
             [
              0.4444444444444444,
              "#bd3786"
             ],
             [
              0.5555555555555556,
              "#d8576b"
             ],
             [
              0.6666666666666666,
              "#ed7953"
             ],
             [
              0.7777777777777778,
              "#fb9f3a"
             ],
             [
              0.8888888888888888,
              "#fdca26"
             ],
             [
              1,
              "#f0f921"
             ]
            ],
            "type": "heatmapgl"
           }
          ],
          "histogram": [
           {
            "marker": {
             "pattern": {
              "fillmode": "overlay",
              "size": 10,
              "solidity": 0.2
             }
            },
            "type": "histogram"
           }
          ],
          "histogram2d": [
           {
            "colorbar": {
             "outlinewidth": 0,
             "ticks": ""
            },
            "colorscale": [
             [
              0,
              "#0d0887"
             ],
             [
              0.1111111111111111,
              "#46039f"
             ],
             [
              0.2222222222222222,
              "#7201a8"
             ],
             [
              0.3333333333333333,
              "#9c179e"
             ],
             [
              0.4444444444444444,
              "#bd3786"
             ],
             [
              0.5555555555555556,
              "#d8576b"
             ],
             [
              0.6666666666666666,
              "#ed7953"
             ],
             [
              0.7777777777777778,
              "#fb9f3a"
             ],
             [
              0.8888888888888888,
              "#fdca26"
             ],
             [
              1,
              "#f0f921"
             ]
            ],
            "type": "histogram2d"
           }
          ],
          "histogram2dcontour": [
           {
            "colorbar": {
             "outlinewidth": 0,
             "ticks": ""
            },
            "colorscale": [
             [
              0,
              "#0d0887"
             ],
             [
              0.1111111111111111,
              "#46039f"
             ],
             [
              0.2222222222222222,
              "#7201a8"
             ],
             [
              0.3333333333333333,
              "#9c179e"
             ],
             [
              0.4444444444444444,
              "#bd3786"
             ],
             [
              0.5555555555555556,
              "#d8576b"
             ],
             [
              0.6666666666666666,
              "#ed7953"
             ],
             [
              0.7777777777777778,
              "#fb9f3a"
             ],
             [
              0.8888888888888888,
              "#fdca26"
             ],
             [
              1,
              "#f0f921"
             ]
            ],
            "type": "histogram2dcontour"
           }
          ],
          "mesh3d": [
           {
            "colorbar": {
             "outlinewidth": 0,
             "ticks": ""
            },
            "type": "mesh3d"
           }
          ],
          "parcoords": [
           {
            "line": {
             "colorbar": {
              "outlinewidth": 0,
              "ticks": ""
             }
            },
            "type": "parcoords"
           }
          ],
          "pie": [
           {
            "automargin": true,
            "type": "pie"
           }
          ],
          "scatter": [
           {
            "marker": {
             "colorbar": {
              "outlinewidth": 0,
              "ticks": ""
             }
            },
            "type": "scatter"
           }
          ],
          "scatter3d": [
           {
            "line": {
             "colorbar": {
              "outlinewidth": 0,
              "ticks": ""
             }
            },
            "marker": {
             "colorbar": {
              "outlinewidth": 0,
              "ticks": ""
             }
            },
            "type": "scatter3d"
           }
          ],
          "scattercarpet": [
           {
            "marker": {
             "colorbar": {
              "outlinewidth": 0,
              "ticks": ""
             }
            },
            "type": "scattercarpet"
           }
          ],
          "scattergeo": [
           {
            "marker": {
             "colorbar": {
              "outlinewidth": 0,
              "ticks": ""
             }
            },
            "type": "scattergeo"
           }
          ],
          "scattergl": [
           {
            "marker": {
             "colorbar": {
              "outlinewidth": 0,
              "ticks": ""
             }
            },
            "type": "scattergl"
           }
          ],
          "scattermapbox": [
           {
            "marker": {
             "colorbar": {
              "outlinewidth": 0,
              "ticks": ""
             }
            },
            "type": "scattermapbox"
           }
          ],
          "scatterpolar": [
           {
            "marker": {
             "colorbar": {
              "outlinewidth": 0,
              "ticks": ""
             }
            },
            "type": "scatterpolar"
           }
          ],
          "scatterpolargl": [
           {
            "marker": {
             "colorbar": {
              "outlinewidth": 0,
              "ticks": ""
             }
            },
            "type": "scatterpolargl"
           }
          ],
          "scatterternary": [
           {
            "marker": {
             "colorbar": {
              "outlinewidth": 0,
              "ticks": ""
             }
            },
            "type": "scatterternary"
           }
          ],
          "surface": [
           {
            "colorbar": {
             "outlinewidth": 0,
             "ticks": ""
            },
            "colorscale": [
             [
              0,
              "#0d0887"
             ],
             [
              0.1111111111111111,
              "#46039f"
             ],
             [
              0.2222222222222222,
              "#7201a8"
             ],
             [
              0.3333333333333333,
              "#9c179e"
             ],
             [
              0.4444444444444444,
              "#bd3786"
             ],
             [
              0.5555555555555556,
              "#d8576b"
             ],
             [
              0.6666666666666666,
              "#ed7953"
             ],
             [
              0.7777777777777778,
              "#fb9f3a"
             ],
             [
              0.8888888888888888,
              "#fdca26"
             ],
             [
              1,
              "#f0f921"
             ]
            ],
            "type": "surface"
           }
          ],
          "table": [
           {
            "cells": {
             "fill": {
              "color": "#EBF0F8"
             },
             "line": {
              "color": "white"
             }
            },
            "header": {
             "fill": {
              "color": "#C8D4E3"
             },
             "line": {
              "color": "white"
             }
            },
            "type": "table"
           }
          ]
         },
         "layout": {
          "annotationdefaults": {
           "arrowcolor": "#2a3f5f",
           "arrowhead": 0,
           "arrowwidth": 1
          },
          "autotypenumbers": "strict",
          "coloraxis": {
           "colorbar": {
            "outlinewidth": 0,
            "ticks": ""
           }
          },
          "colorscale": {
           "diverging": [
            [
             0,
             "#8e0152"
            ],
            [
             0.1,
             "#c51b7d"
            ],
            [
             0.2,
             "#de77ae"
            ],
            [
             0.3,
             "#f1b6da"
            ],
            [
             0.4,
             "#fde0ef"
            ],
            [
             0.5,
             "#f7f7f7"
            ],
            [
             0.6,
             "#e6f5d0"
            ],
            [
             0.7,
             "#b8e186"
            ],
            [
             0.8,
             "#7fbc41"
            ],
            [
             0.9,
             "#4d9221"
            ],
            [
             1,
             "#276419"
            ]
           ],
           "sequential": [
            [
             0,
             "#0d0887"
            ],
            [
             0.1111111111111111,
             "#46039f"
            ],
            [
             0.2222222222222222,
             "#7201a8"
            ],
            [
             0.3333333333333333,
             "#9c179e"
            ],
            [
             0.4444444444444444,
             "#bd3786"
            ],
            [
             0.5555555555555556,
             "#d8576b"
            ],
            [
             0.6666666666666666,
             "#ed7953"
            ],
            [
             0.7777777777777778,
             "#fb9f3a"
            ],
            [
             0.8888888888888888,
             "#fdca26"
            ],
            [
             1,
             "#f0f921"
            ]
           ],
           "sequentialminus": [
            [
             0,
             "#0d0887"
            ],
            [
             0.1111111111111111,
             "#46039f"
            ],
            [
             0.2222222222222222,
             "#7201a8"
            ],
            [
             0.3333333333333333,
             "#9c179e"
            ],
            [
             0.4444444444444444,
             "#bd3786"
            ],
            [
             0.5555555555555556,
             "#d8576b"
            ],
            [
             0.6666666666666666,
             "#ed7953"
            ],
            [
             0.7777777777777778,
             "#fb9f3a"
            ],
            [
             0.8888888888888888,
             "#fdca26"
            ],
            [
             1,
             "#f0f921"
            ]
           ]
          },
          "colorway": [
           "#636efa",
           "#EF553B",
           "#00cc96",
           "#ab63fa",
           "#FFA15A",
           "#19d3f3",
           "#FF6692",
           "#B6E880",
           "#FF97FF",
           "#FECB52"
          ],
          "font": {
           "color": "#2a3f5f"
          },
          "geo": {
           "bgcolor": "white",
           "lakecolor": "white",
           "landcolor": "#E5ECF6",
           "showlakes": true,
           "showland": true,
           "subunitcolor": "white"
          },
          "hoverlabel": {
           "align": "left"
          },
          "hovermode": "closest",
          "mapbox": {
           "style": "light"
          },
          "paper_bgcolor": "white",
          "plot_bgcolor": "#E5ECF6",
          "polar": {
           "angularaxis": {
            "gridcolor": "white",
            "linecolor": "white",
            "ticks": ""
           },
           "bgcolor": "#E5ECF6",
           "radialaxis": {
            "gridcolor": "white",
            "linecolor": "white",
            "ticks": ""
           }
          },
          "scene": {
           "xaxis": {
            "backgroundcolor": "#E5ECF6",
            "gridcolor": "white",
            "gridwidth": 2,
            "linecolor": "white",
            "showbackground": true,
            "ticks": "",
            "zerolinecolor": "white"
           },
           "yaxis": {
            "backgroundcolor": "#E5ECF6",
            "gridcolor": "white",
            "gridwidth": 2,
            "linecolor": "white",
            "showbackground": true,
            "ticks": "",
            "zerolinecolor": "white"
           },
           "zaxis": {
            "backgroundcolor": "#E5ECF6",
            "gridcolor": "white",
            "gridwidth": 2,
            "linecolor": "white",
            "showbackground": true,
            "ticks": "",
            "zerolinecolor": "white"
           }
          },
          "shapedefaults": {
           "line": {
            "color": "#2a3f5f"
           }
          },
          "ternary": {
           "aaxis": {
            "gridcolor": "white",
            "linecolor": "white",
            "ticks": ""
           },
           "baxis": {
            "gridcolor": "white",
            "linecolor": "white",
            "ticks": ""
           },
           "bgcolor": "#E5ECF6",
           "caxis": {
            "gridcolor": "white",
            "linecolor": "white",
            "ticks": ""
           }
          },
          "title": {
           "x": 0.05
          },
          "xaxis": {
           "automargin": true,
           "gridcolor": "white",
           "linecolor": "white",
           "ticks": "",
           "title": {
            "standoff": 15
           },
           "zerolinecolor": "white",
           "zerolinewidth": 2
          },
          "yaxis": {
           "automargin": true,
           "gridcolor": "white",
           "linecolor": "white",
           "ticks": "",
           "title": {
            "standoff": 15
           },
           "zerolinecolor": "white",
           "zerolinewidth": 2
          }
         }
        },
        "title": {
         "text": "A chart looking at post docs or something?"
        },
        "xaxis": {
         "autorange": true,
         "range": [
          0,
          136842.1052631579
         ],
         "type": "linear"
        },
        "yaxis": {
         "autorange": true,
         "range": [
          -0.5,
          20.5
         ],
         "showticksuffix": "all",
         "ticksuffix": "   ",
         "type": "category"
        }
       }
      },
      "image/png": "[encoded data removed]",
      "text/html": [
       "<div>                            <div id=\"a6c6a234-f04f-4fef-840d-eb8e6c2796a8\" class=\"plotly-graph-div\" style=\"height:1200px; width:100%;\"></div>            <script type=\"text/javascript\">                require([\"plotly\"], function(Plotly) {                    window.PLOTLYENV=window.PLOTLYENV || {};                                    if (document.getElementById(\"a6c6a234-f04f-4fef-840d-eb8e6c2796a8\")) {                    Plotly.newPlot(                        \"a6c6a234-f04f-4fef-840d-eb8e6c2796a8\",                        [{\"marker\":{\"color\":\"#3627fd\"},\"name\":\"EmploymentMale\",\"orientation\":\"h\",\"x\":[95000.0,100000.0,87000.0,80000.0,90000.0,88739.0,100000.0,97000.0,76750.0,110000.0,125000.0,77000.0,71002.0,115000.0,68018.0,105000.0,69000.0,73000.0,53000.0,130000.0,67500.0],\"y\":[\"All fields\",\"Science and engineering\",\"Life sciences\",\"Agricultural sciences and natural resources\",\"Biological and biomedical sciences\",\"Health sciences\",\"Physical sciences and earth sciences\",\"Chemistry\",\"Geosciences, atmospheric sciences, and ocean sciences\",\"Physics and astronomy\",\"Mathematics and computer sciences\",\"Psychology and social sciences \",\"Psychology\",\"Economics\",\"Social sciencesb\",\"Engineering\",\"Non-science and engineering\",\"Education\",\"Humanities and arts\",\"Business management and administration\",\"Other non-S&E fieldsc\"],\"type\":\"bar\"},{\"marker\":{\"color\":\"#7973fc\"},\"name\":\"PostdoctoralStudyMale\",\"orientation\":\"h\",\"x\":[50000.0,50000.0,50000.0,48216.0,50000.0,50000.0,50004.0,48950.0,54000.0,58000.0,61500.0,50000.0,48700.0,65000.0,54000.0,50000.0,50000.0,53000.0,50000.0,75000.0,55000.0],\"y\":[\"All fields\",\"Science and engineering\",\"Life sciences\",\"Agricultural sciences and natural resources\",\"Biological and biomedical sciences\",\"Health sciences\",\"Physical sciences and earth sciences\",\"Chemistry\",\"Geosciences, atmospheric sciences, and ocean sciences\",\"Physics and astronomy\",\"Mathematics and computer sciences\",\"Psychology and social sciences \",\"Psychology\",\"Economics\",\"Social sciencesb\",\"Engineering\",\"Non-science and engineering\",\"Education\",\"Humanities and arts\",\"Business management and administration\",\"Other non-S&E fieldsc\"],\"type\":\"bar\"},{\"marker\":{\"color\":\"#fb5dfd\"},\"name\":\"EmploymentFemale\",\"orientation\":\"h\",\"x\":[72500.0,80000.0,80000.0,70116.0,80000.0,85000.0,90000.0,92250.0,67000.0,102500.0,101500.0,69000.0,66050.0,120000.0,65000.0,100000.0,65000.0,68000.0,53000.0,125000.0,65000.0],\"y\":[\"All fields\",\"Science and engineering\",\"Life sciences\",\"Agricultural sciences and natural resources\",\"Biological and biomedical sciences\",\"Health sciences\",\"Physical sciences and earth sciences\",\"Chemistry\",\"Geosciences, atmospheric sciences, and ocean sciences\",\"Physics and astronomy\",\"Mathematics and computer sciences\",\"Psychology and social sciences \",\"Psychology\",\"Economics\",\"Social sciencesb\",\"Engineering\",\"Non-science and engineering\",\"Education\",\"Humanities and arts\",\"Business management and administration\",\"Other non-S&E fieldsc\"],\"type\":\"bar\"},{\"marker\":{\"color\":\"#fcacfe\"},\"name\":\"PostdoctoralStudyFemale\",\"orientation\":\"h\",\"x\":[50000.0,50000.0,50000.0,49000.0,50000.0,50000.0,50760.0,49000.0,55000.0,60295.0,60000.0,48500.0,48000.0,65000.0,52000.0,50000.0,50000.0,50000.0,50000.0,65000.0,50000.0],\"y\":[\"All fields\",\"Science and engineering\",\"Life sciences\",\"Agricultural sciences and natural resources\",\"Biological and biomedical sciences\",\"Health sciences\",\"Physical sciences and earth sciences\",\"Chemistry\",\"Geosciences, atmospheric sciences, and ocean sciences\",\"Physics and astronomy\",\"Mathematics and computer sciences\",\"Psychology and social sciences \",\"Psychology\",\"Economics\",\"Social sciencesb\",\"Engineering\",\"Non-science and engineering\",\"Education\",\"Humanities and arts\",\"Business management and administration\",\"Other non-S&E fieldsc\"],\"type\":\"bar\"}],                        {\"template\":{\"data\":{\"bar\":[{\"error_x\":{\"color\":\"#2a3f5f\"},\"error_y\":{\"color\":\"#2a3f5f\"},\"marker\":{\"line\":{\"color\":\"#E5ECF6\",\"width\":0.5},\"pattern\":{\"fillmode\":\"overlay\",\"size\":10,\"solidity\":0.2}},\"type\":\"bar\"}],\"barpolar\":[{\"marker\":{\"line\":{\"color\":\"#E5ECF6\",\"width\":0.5},\"pattern\":{\"fillmode\":\"overlay\",\"size\":10,\"solidity\":0.2}},\"type\":\"barpolar\"}],\"carpet\":[{\"aaxis\":{\"endlinecolor\":\"#2a3f5f\",\"gridcolor\":\"white\",\"linecolor\":\"white\",\"minorgridcolor\":\"white\",\"startlinecolor\":\"#2a3f5f\"},\"baxis\":{\"endlinecolor\":\"#2a3f5f\",\"gridcolor\":\"white\",\"linecolor\":\"white\",\"minorgridcolor\":\"white\",\"startlinecolor\":\"#2a3f5f\"},\"type\":\"carpet\"}],\"choropleth\":[{\"colorbar\":{\"outlinewidth\":0,\"ticks\":\"\"},\"type\":\"choropleth\"}],\"contour\":[{\"colorbar\":{\"outlinewidth\":0,\"ticks\":\"\"},\"colorscale\":[[0.0,\"#0d0887\"],[0.1111111111111111,\"#46039f\"],[0.2222222222222222,\"#7201a8\"],[0.3333333333333333,\"#9c179e\"],[0.4444444444444444,\"#bd3786\"],[0.5555555555555556,\"#d8576b\"],[0.6666666666666666,\"#ed7953\"],[0.7777777777777778,\"#fb9f3a\"],[0.8888888888888888,\"#fdca26\"],[1.0,\"#f0f921\"]],\"type\":\"contour\"}],\"contourcarpet\":[{\"colorbar\":{\"outlinewidth\":0,\"ticks\":\"\"},\"type\":\"contourcarpet\"}],\"heatmap\":[{\"colorbar\":{\"outlinewidth\":0,\"ticks\":\"\"},\"colorscale\":[[0.0,\"#0d0887\"],[0.1111111111111111,\"#46039f\"],[0.2222222222222222,\"#7201a8\"],[0.3333333333333333,\"#9c179e\"],[0.4444444444444444,\"#bd3786\"],[0.5555555555555556,\"#d8576b\"],[0.6666666666666666,\"#ed7953\"],[0.7777777777777778,\"#fb9f3a\"],[0.8888888888888888,\"#fdca26\"],[1.0,\"#f0f921\"]],\"type\":\"heatmap\"}],\"heatmapgl\":[{\"colorbar\":{\"outlinewidth\":0,\"ticks\":\"\"},\"colorscale\":[[0.0,\"#0d0887\"],[0.1111111111111111,\"#46039f\"],[0.2222222222222222,\"#7201a8\"],[0.3333333333333333,\"#9c179e\"],[0.4444444444444444,\"#bd3786\"],[0.5555555555555556,\"#d8576b\"],[0.6666666666666666,\"#ed7953\"],[0.7777777777777778,\"#fb9f3a\"],[0.8888888888888888,\"#fdca26\"],[1.0,\"#f0f921\"]],\"type\":\"heatmapgl\"}],\"histogram\":[{\"marker\":{\"pattern\":{\"fillmode\":\"overlay\",\"size\":10,\"solidity\":0.2}},\"type\":\"histogram\"}],\"histogram2d\":[{\"colorbar\":{\"outlinewidth\":0,\"ticks\":\"\"},\"colorscale\":[[0.0,\"#0d0887\"],[0.1111111111111111,\"#46039f\"],[0.2222222222222222,\"#7201a8\"],[0.3333333333333333,\"#9c179e\"],[0.4444444444444444,\"#bd3786\"],[0.5555555555555556,\"#d8576b\"],[0.6666666666666666,\"#ed7953\"],[0.7777777777777778,\"#fb9f3a\"],[0.8888888888888888,\"#fdca26\"],[1.0,\"#f0f921\"]],\"type\":\"histogram2d\"}],\"histogram2dcontour\":[{\"colorbar\":{\"outlinewidth\":0,\"ticks\":\"\"},\"colorscale\":[[0.0,\"#0d0887\"],[0.1111111111111111,\"#46039f\"],[0.2222222222222222,\"#7201a8\"],[0.3333333333333333,\"#9c179e\"],[0.4444444444444444,\"#bd3786\"],[0.5555555555555556,\"#d8576b\"],[0.6666666666666666,\"#ed7953\"],[0.7777777777777778,\"#fb9f3a\"],[0.8888888888888888,\"#fdca26\"],[1.0,\"#f0f921\"]],\"type\":\"histogram2dcontour\"}],\"mesh3d\":[{\"colorbar\":{\"outlinewidth\":0,\"ticks\":\"\"},\"type\":\"mesh3d\"}],\"parcoords\":[{\"line\":{\"colorbar\":{\"outlinewidth\":0,\"ticks\":\"\"}},\"type\":\"parcoords\"}],\"pie\":[{\"automargin\":true,\"type\":\"pie\"}],\"scatter\":[{\"marker\":{\"colorbar\":{\"outlinewidth\":0,\"ticks\":\"\"}},\"type\":\"scatter\"}],\"scatter3d\":[{\"line\":{\"colorbar\":{\"outlinewidth\":0,\"ticks\":\"\"}},\"marker\":{\"colorbar\":{\"outlinewidth\":0,\"ticks\":\"\"}},\"type\":\"scatter3d\"}],\"scattercarpet\":[{\"marker\":{\"colorbar\":{\"outlinewidth\":0,\"ticks\":\"\"}},\"type\":\"scattercarpet\"}],\"scattergeo\":[{\"marker\":{\"colorbar\":{\"outlinewidth\":0,\"ticks\":\"\"}},\"type\":\"scattergeo\"}],\"scattergl\":[{\"marker\":{\"colorbar\":{\"outlinewidth\":0,\"ticks\":\"\"}},\"type\":\"scattergl\"}],\"scattermapbox\":[{\"marker\":{\"colorbar\":{\"outlinewidth\":0,\"ticks\":\"\"}},\"type\":\"scattermapbox\"}],\"scatterpolar\":[{\"marker\":{\"colorbar\":{\"outlinewidth\":0,\"ticks\":\"\"}},\"type\":\"scatterpolar\"}],\"scatterpolargl\":[{\"marker\":{\"colorbar\":{\"outlinewidth\":0,\"ticks\":\"\"}},\"type\":\"scatterpolargl\"}],\"scatterternary\":[{\"marker\":{\"colorbar\":{\"outlinewidth\":0,\"ticks\":\"\"}},\"type\":\"scatterternary\"}],\"surface\":[{\"colorbar\":{\"outlinewidth\":0,\"ticks\":\"\"},\"colorscale\":[[0.0,\"#0d0887\"],[0.1111111111111111,\"#46039f\"],[0.2222222222222222,\"#7201a8\"],[0.3333333333333333,\"#9c179e\"],[0.4444444444444444,\"#bd3786\"],[0.5555555555555556,\"#d8576b\"],[0.6666666666666666,\"#ed7953\"],[0.7777777777777778,\"#fb9f3a\"],[0.8888888888888888,\"#fdca26\"],[1.0,\"#f0f921\"]],\"type\":\"surface\"}],\"table\":[{\"cells\":{\"fill\":{\"color\":\"#EBF0F8\"},\"line\":{\"color\":\"white\"}},\"header\":{\"fill\":{\"color\":\"#C8D4E3\"},\"line\":{\"color\":\"white\"}},\"type\":\"table\"}]},\"layout\":{\"annotationdefaults\":{\"arrowcolor\":\"#2a3f5f\",\"arrowhead\":0,\"arrowwidth\":1},\"autotypenumbers\":\"strict\",\"coloraxis\":{\"colorbar\":{\"outlinewidth\":0,\"ticks\":\"\"}},\"colorscale\":{\"diverging\":[[0,\"#8e0152\"],[0.1,\"#c51b7d\"],[0.2,\"#de77ae\"],[0.3,\"#f1b6da\"],[0.4,\"#fde0ef\"],[0.5,\"#f7f7f7\"],[0.6,\"#e6f5d0\"],[0.7,\"#b8e186\"],[0.8,\"#7fbc41\"],[0.9,\"#4d9221\"],[1,\"#276419\"]],\"sequential\":[[0.0,\"#0d0887\"],[0.1111111111111111,\"#46039f\"],[0.2222222222222222,\"#7201a8\"],[0.3333333333333333,\"#9c179e\"],[0.4444444444444444,\"#bd3786\"],[0.5555555555555556,\"#d8576b\"],[0.6666666666666666,\"#ed7953\"],[0.7777777777777778,\"#fb9f3a\"],[0.8888888888888888,\"#fdca26\"],[1.0,\"#f0f921\"]],\"sequentialminus\":[[0.0,\"#0d0887\"],[0.1111111111111111,\"#46039f\"],[0.2222222222222222,\"#7201a8\"],[0.3333333333333333,\"#9c179e\"],[0.4444444444444444,\"#bd3786\"],[0.5555555555555556,\"#d8576b\"],[0.6666666666666666,\"#ed7953\"],[0.7777777777777778,\"#fb9f3a\"],[0.8888888888888888,\"#fdca26\"],[1.0,\"#f0f921\"]]},\"colorway\":[\"#636efa\",\"#EF553B\",\"#00cc96\",\"#ab63fa\",\"#FFA15A\",\"#19d3f3\",\"#FF6692\",\"#B6E880\",\"#FF97FF\",\"#FECB52\"],\"font\":{\"color\":\"#2a3f5f\"},\"geo\":{\"bgcolor\":\"white\",\"lakecolor\":\"white\",\"landcolor\":\"#E5ECF6\",\"showlakes\":true,\"showland\":true,\"subunitcolor\":\"white\"},\"hoverlabel\":{\"align\":\"left\"},\"hovermode\":\"closest\",\"mapbox\":{\"style\":\"light\"},\"paper_bgcolor\":\"white\",\"plot_bgcolor\":\"#E5ECF6\",\"polar\":{\"angularaxis\":{\"gridcolor\":\"white\",\"linecolor\":\"white\",\"ticks\":\"\"},\"bgcolor\":\"#E5ECF6\",\"radialaxis\":{\"gridcolor\":\"white\",\"linecolor\":\"white\",\"ticks\":\"\"}},\"scene\":{\"xaxis\":{\"backgroundcolor\":\"#E5ECF6\",\"gridcolor\":\"white\",\"gridwidth\":2,\"linecolor\":\"white\",\"showbackground\":true,\"ticks\":\"\",\"zerolinecolor\":\"white\"},\"yaxis\":{\"backgroundcolor\":\"#E5ECF6\",\"gridcolor\":\"white\",\"gridwidth\":2,\"linecolor\":\"white\",\"showbackground\":true,\"ticks\":\"\",\"zerolinecolor\":\"white\"},\"zaxis\":{\"backgroundcolor\":\"#E5ECF6\",\"gridcolor\":\"white\",\"gridwidth\":2,\"linecolor\":\"white\",\"showbackground\":true,\"ticks\":\"\",\"zerolinecolor\":\"white\"}},\"shapedefaults\":{\"line\":{\"color\":\"#2a3f5f\"}},\"ternary\":{\"aaxis\":{\"gridcolor\":\"white\",\"linecolor\":\"white\",\"ticks\":\"\"},\"baxis\":{\"gridcolor\":\"white\",\"linecolor\":\"white\",\"ticks\":\"\"},\"bgcolor\":\"#E5ECF6\",\"caxis\":{\"gridcolor\":\"white\",\"linecolor\":\"white\",\"ticks\":\"\"}},\"title\":{\"x\":0.05},\"xaxis\":{\"automargin\":true,\"gridcolor\":\"white\",\"linecolor\":\"white\",\"ticks\":\"\",\"title\":{\"standoff\":15},\"zerolinecolor\":\"white\",\"zerolinewidth\":2},\"yaxis\":{\"automargin\":true,\"gridcolor\":\"white\",\"linecolor\":\"white\",\"ticks\":\"\",\"title\":{\"standoff\":15},\"zerolinecolor\":\"white\",\"zerolinewidth\":2}}},\"height\":1200,\"title\":{\"text\":\"A chart looking at post docs or something?\"},\"yaxis\":{\"showticksuffix\":\"all\",\"ticksuffix\":\"   \"}},                        {\"responsive\": true}                    ).then(function(){\n",
       "                            \n",
       "var gd = document.getElementById('a6c6a234-f04f-4fef-840d-eb8e6c2796a8');\n",
       "var x = new MutationObserver(function (mutations, observer) {{\n",
       "        var display = window.getComputedStyle(gd).display;\n",
       "        if (!display || display === 'none') {{\n",
       "            console.log([gd, 'removed!']);\n",
       "            Plotly.purge(gd);\n",
       "            observer.disconnect();\n",
       "        }}\n",
       "}});\n",
       "\n",
       "// Listen for the removal of the full notebook cells\n",
       "var notebookContainer = gd.closest('#notebook-container');\n",
       "if (notebookContainer) {{\n",
       "    x.observe(notebookContainer, {childList: true});\n",
       "}}\n",
       "\n",
       "// Listen for the clearing of the current output cell\n",
       "var outputEl = gd.closest('.output');\n",
       "if (outputEl) {{\n",
       "    x.observe(outputEl, {childList: true});\n",
       "}}\n",
       "\n",
       "                        })                };                });            </script>        </div>"
      ]
     },
     "metadata": {},
     "output_type": "display_data"
    }
   ],
   "source": [
    "import plotly.graph_objects as go\n",
    "fig = go.Figure()\n",
    "\n",
    "colours = dict(zip(['EmploymentMale','PostdoctoralStudyMale', 'EmploymentFemale',  'PostdoctoralStudyFemale'], [\"#3627fd\",\"#7973fc\",\"#fb5dfd\",\"#fcacfe\"]))\n",
    "\n",
    "for employment_type in ['EmploymentMale','PostdoctoralStudyMale', 'EmploymentFemale',  'PostdoctoralStudyFemale']:\n",
    "    fig.add_trace(go.Bar(y=df['Field'], x=df[employment_type], orientation=\"h\", name=employment_type, marker_color=colours[employment_type]),)\n",
    "\n",
    "fig.update_layout(height=1200, title=\"A chart looking at post docs or something?\")\n",
    "\n",
    "fig.update_yaxes(showticksuffix=\"all\", ticksuffix=\"   \",)\n",
    "\n",
    "fig.write_html(\"chart_1_out.html\")\n",
    "fig\n",
    "\n",
    "# sns.barplot(data=df, y=df['Field'], x=df['EmploymentTotal'], orient='h', order = df.sort_values('EmploymentTotal').Field)"
   ]
  },
  {
   "cell_type": "code",
   "execution_count": 9,
   "metadata": {
    "colab": {
     "base_uri": "https://localhost:8080/",
     "height": 554
    },
    "id": "s21R9tAY1mJN",
    "outputId": "f0ad5273-4f35-4a6e-df50-06b514844a27"
   },
   "outputs": [
    {
     "name": "stderr",
     "output_type": "stream",
     "text": [
      "'#' is not recognized as an internal or external command,\n",
      "operable program or batch file.\n"
     ]
    },
    {
     "data": {
      "image/png": "[encoded data removed]",
      "text/plain": [
       "<Figure size 914.4x667.44 with 1 Axes>"
      ]
     },
     "metadata": {},
     "output_type": "display_data"
    }
   ],
   "source": [
    "sns.set(rc={'figure.figsize':(12.7,9.27)})\n",
    "graph = sns.barplot(data=df, ci=None, orient=\"h\")"
   ]
  },
  {
   "cell_type": "code",
   "execution_count": null,
   "metadata": {
    "colab": {
     "base_uri": "https://localhost:8080/",
     "height": 588
    },
    "id": "zU2vd01N2SaQ",
    "outputId": "df48a329-2196-46b1-92d1-3e65a52df759"
   },
   "outputs": [
    {
     "data": {
      "text/plain": [
       "<matplotlib.axes._subplots.AxesSubplot at 0x7fd63541ea50>"
      ]
     },
     "execution_count": 45,
     "metadata": {},
     "output_type": "execute_result"
    },
    {
     "data": {
      "image/png": "[encoded data removed]",
      "text/plain": [
       "<Figure size 914.4x667.44 with 1 Axes>"
      ]
     },
     "metadata": {},
     "output_type": "display_data"
    }
   ],
   "source": [
    "sns.barplot(data=df, y=df[\"Unnamed: 0\" ], x=df[\"Employment Total\"], orient=\"h\", order=df['Employment Total']) #order=df.sort_values('Employment Total'))\n"
   ]
  },
  {
   "cell_type": "code",
   "execution_count": null,
   "metadata": {
    "colab": {
     "base_uri": "https://localhost:8080/",
     "height": 588
    },
    "id": "X4ELvemYA26C",
    "outputId": "36b51ae2-5f99-429b-bc22-7497a72df169"
   },
   "outputs": [
    {
     "data": {
      "text/plain": [
       "<matplotlib.axes._subplots.AxesSubplot at 0x7fd6326cda10>"
      ]
     },
     "execution_count": 89,
     "metadata": {},
     "output_type": "execute_result"
    },
    {
     "data": {
      "image/png": "[encoded data removed]",
      "text/plain": [
       "<Figure size 914.4x667.44 with 1 Axes>"
      ]
     },
     "metadata": {},
     "output_type": "display_data"
    }
   ],
   "source": [
    "from numpy import number\n",
    "\n",
    "df2 = pd.read_csv('Table-25-2018-19.csv', header=14)\n",
    "\n",
    "sns.barplot(data=df2, y=df2['Subject area of degree'], x=df2['Number'], orient='h')"
   ]
  },
  {
   "cell_type": "code",
   "execution_count": null,
   "metadata": {
    "colab": {
     "base_uri": "https://localhost:8080/",
     "height": 458
    },
    "id": "HDU12A9yFtAL",
    "outputId": "80d13478-8754-44b0-b710-89c880a2972d"
   },
   "outputs": [
    {
     "data": {
      "text/html": [
       "\n",
       "  <div id=\"df-d5ddc2e6-978f-4204-b546-4cab66f5030e\">\n",
       "    <div class=\"colab-df-container\">\n",
       "      <div>\n",
       "<style scoped>\n",
       "    .dataframe tbody tr th:only-of-type {\n",
       "        vertical-align: middle;\n",
       "    }\n",
       "\n",
       "    .dataframe tbody tr th {\n",
       "        vertical-align: top;\n",
       "    }\n",
       "\n",
       "    .dataframe thead th {\n",
       "        text-align: right;\n",
       "    }\n",
       "</style>\n",
       "<table border=\"1\" class=\"dataframe\">\n",
       "  <thead>\n",
       "    <tr style=\"text-align: right;\">\n",
       "      <th></th>\n",
       "      <th>Subject area of degree</th>\n",
       "      <th>Country of provider</th>\n",
       "      <th>Provider type</th>\n",
       "      <th>Level of qualification obtained</th>\n",
       "      <th>Mode of former study</th>\n",
       "      <th>Skill group</th>\n",
       "      <th>Work population marker</th>\n",
       "      <th>Salary band</th>\n",
       "      <th>Academic year</th>\n",
       "      <th>Number</th>\n",
       "      <th>Percent</th>\n",
       "    </tr>\n",
       "  </thead>\n",
       "  <tbody>\n",
       "    <tr>\n",
       "      <th>0</th>\n",
       "      <td>(1) Medicine &amp; dentistry</td>\n",
       "      <td>All</td>\n",
       "      <td>All</td>\n",
       "      <td>All</td>\n",
       "      <td>All</td>\n",
       "      <td>All</td>\n",
       "      <td>Paid employment is an activity</td>\n",
       "      <td>Less than £15,000</td>\n",
       "      <td>2017/18</td>\n",
       "      <td>5</td>\n",
       "      <td>0%</td>\n",
       "    </tr>\n",
       "    <tr>\n",
       "      <th>1</th>\n",
       "      <td>(1) Medicine &amp; dentistry</td>\n",
       "      <td>All</td>\n",
       "      <td>All</td>\n",
       "      <td>All postgraduate</td>\n",
       "      <td>All</td>\n",
       "      <td>All</td>\n",
       "      <td>Paid employment is an activity</td>\n",
       "      <td>Less than £15,000</td>\n",
       "      <td>2017/18</td>\n",
       "      <td>0</td>\n",
       "      <td>0%</td>\n",
       "    </tr>\n",
       "    <tr>\n",
       "      <th>2</th>\n",
       "      <td>(1) Medicine &amp; dentistry</td>\n",
       "      <td>All</td>\n",
       "      <td>All</td>\n",
       "      <td>All undergraduate</td>\n",
       "      <td>All</td>\n",
       "      <td>All</td>\n",
       "      <td>Paid employment is an activity</td>\n",
       "      <td>Less than £15,000</td>\n",
       "      <td>2017/18</td>\n",
       "      <td>0</td>\n",
       "      <td>0%</td>\n",
       "    </tr>\n",
       "    <tr>\n",
       "      <th>3</th>\n",
       "      <td>(1) Medicine &amp; dentistry</td>\n",
       "      <td>All</td>\n",
       "      <td>All</td>\n",
       "      <td>First degree</td>\n",
       "      <td>All</td>\n",
       "      <td>All</td>\n",
       "      <td>Paid employment is an activity</td>\n",
       "      <td>Less than £15,000</td>\n",
       "      <td>2017/18</td>\n",
       "      <td>0</td>\n",
       "      <td>0%</td>\n",
       "    </tr>\n",
       "    <tr>\n",
       "      <th>4</th>\n",
       "      <td>(1) Medicine &amp; dentistry</td>\n",
       "      <td>All</td>\n",
       "      <td>All</td>\n",
       "      <td>Other undergraduate</td>\n",
       "      <td>All</td>\n",
       "      <td>All</td>\n",
       "      <td>Paid employment is an activity</td>\n",
       "      <td>Less than £15,000</td>\n",
       "      <td>2017/18</td>\n",
       "      <td>0</td>\n",
       "      <td>0%</td>\n",
       "    </tr>\n",
       "  </tbody>\n",
       "</table>\n",
       "</div>\n",
       "      <button class=\"colab-df-convert\" onclick=\"convertToInteractive('df-d5ddc2e6-978f-4204-b546-4cab66f5030e')\"\n",
       "              title=\"Convert this dataframe to an interactive table.\"\n",
       "              style=\"display:none;\">\n",
       "        \n",
       "  <svg xmlns=\"http://www.w3.org/2000/svg\" height=\"24px\"viewBox=\"0 0 24 24\"\n",
       "       width=\"24px\">\n",
       "    <path d=\"M0 0h24v24H0V0z\" fill=\"none\"/>\n",
       "    <path d=\"M18.56 5.44l.94 2.06.94-2.06 2.06-.94-2.06-.94-.94-2.06-.94 2.06-2.06.94zm-11 1L8.5 8.5l.94-2.06 2.06-.94-2.06-.94L8.5 2.5l-.94 2.06-2.06.94zm10 10l.94 2.06.94-2.06 2.06-.94-2.06-.94-.94-2.06-.94 2.06-2.06.94z\"/><path d=\"M17.41 7.96l-1.37-1.37c-.4-.4-.92-.59-1.43-.59-.52 0-1.04.2-1.43.59L10.3 9.45l-7.72 7.72c-.78.78-.78 2.05 0 2.83L4 21.41c.39.39.9.59 1.41.59.51 0 1.02-.2 1.41-.59l7.78-7.78 2.81-2.81c.8-.78.8-2.07 0-2.86zM5.41 20L4 18.59l7.72-7.72 1.47 1.35L5.41 20z\"/>\n",
       "  </svg>\n",
       "      </button>\n",
       "      \n",
       "  <style>\n",
       "    .colab-df-container {\n",
       "      display:flex;\n",
       "      flex-wrap:wrap;\n",
       "      gap: 12px;\n",
       "    }\n",
       "\n",
       "    .colab-df-convert {\n",
       "      background-color: #E8F0FE;\n",
       "      border: none;\n",
       "      border-radius: 50%;\n",
       "      cursor: pointer;\n",
       "      display: none;\n",
       "      fill: #1967D2;\n",
       "      height: 32px;\n",
       "      padding: 0 0 0 0;\n",
       "      width: 32px;\n",
       "    }\n",
       "\n",
       "    .colab-df-convert:hover {\n",
       "      background-color: #E2EBFA;\n",
       "      box-shadow: 0px 1px 2px rgba(60, 64, 67, 0.3), 0px 1px 3px 1px rgba(60, 64, 67, 0.15);\n",
       "      fill: #174EA6;\n",
       "    }\n",
       "\n",
       "    [theme=dark] .colab-df-convert {\n",
       "      background-color: #3B4455;\n",
       "      fill: #D2E3FC;\n",
       "    }\n",
       "\n",
       "    [theme=dark] .colab-df-convert:hover {\n",
       "      background-color: #434B5C;\n",
       "      box-shadow: 0px 1px 3px 1px rgba(0, 0, 0, 0.15);\n",
       "      filter: drop-shadow(0px 1px 2px rgba(0, 0, 0, 0.3));\n",
       "      fill: #FFFFFF;\n",
       "    }\n",
       "  </style>\n",
       "\n",
       "      <script>\n",
       "        const buttonEl =\n",
       "          document.querySelector('#df-d5ddc2e6-978f-4204-b546-4cab66f5030e button.colab-df-convert');\n",
       "        buttonEl.style.display =\n",
       "          google.colab.kernel.accessAllowed ? 'block' : 'none';\n",
       "\n",
       "        async function convertToInteractive(key) {\n",
       "          const element = document.querySelector('#df-d5ddc2e6-978f-4204-b546-4cab66f5030e');\n",
       "          const dataTable =\n",
       "            await google.colab.kernel.invokeFunction('convertToInteractive',\n",
       "                                                     [key], {});\n",
       "          if (!dataTable) return;\n",
       "\n",
       "          const docLinkHtml = 'Like what you see? Visit the ' +\n",
       "            '<a target=\"_blank\" href=https://colab.research.google.com/notebooks/data_table.ipynb>data table notebook</a>'\n",
       "            + ' to learn more about interactive tables.';\n",
       "          element.innerHTML = '';\n",
       "          dataTable['output_type'] = 'display_data';\n",
       "          await google.colab.output.renderOutput(dataTable, element);\n",
       "          const docLink = document.createElement('div');\n",
       "          docLink.innerHTML = docLinkHtml;\n",
       "          element.appendChild(docLink);\n",
       "        }\n",
       "      </script>\n",
       "    </div>\n",
       "  </div>\n",
       "  "
      ],
      "text/plain": [
       "     Subject area of degree Country of provider  ... Number Percent\n",
       "0  (1) Medicine & dentistry                 All  ...      5      0%\n",
       "1  (1) Medicine & dentistry                 All  ...      0      0%\n",
       "2  (1) Medicine & dentistry                 All  ...      0      0%\n",
       "3  (1) Medicine & dentistry                 All  ...      0      0%\n",
       "4  (1) Medicine & dentistry                 All  ...      0      0%\n",
       "\n",
       "[5 rows x 11 columns]"
      ]
     },
     "execution_count": 61,
     "metadata": {},
     "output_type": "execute_result"
    }
   ],
   "source": [
    "df2.head()"
   ]
  },
  {
   "cell_type": "code",
   "execution_count": null,
   "metadata": {
    "colab": {
     "base_uri": "https://localhost:8080/"
    },
    "id": "ZAPYz_CVFyxW",
    "outputId": "d2ff8ae5-a319-45fa-ea0f-9fd1830131da"
   },
   "outputs": [
    {
     "data": {
      "text/plain": [
       "array(['Less than £15,000', 'Total', '£15,000 - £17,999',\n",
       "       '£18,000 - £20,999', '£21,000 - £23,999', '£24,000 - £26,999',\n",
       "       '£27,000 - £29,999', '£30,000 - £32,999', '£33,000 - £35,999',\n",
       "       '£36,000 - £38,999', '£39,000 - £41,999', '£42,000 - £44,999',\n",
       "       '£45,000 - £47,999', '£48,000 - £50,999', '£51,000+'], dtype=object)"
      ]
     },
     "execution_count": 95,
     "metadata": {},
     "output_type": "execute_result"
    }
   ],
   "source": [
    "df2['Salary band'].unique()"
   ]
  },
  {
   "cell_type": "code",
   "execution_count": null,
   "metadata": {
    "colab": {
     "base_uri": "https://localhost:8080/",
     "height": 458
    },
    "id": "GmY5cuXGH2Df",
    "outputId": "570ea590-026f-4522-9378-dc11d237d3cc"
   },
   "outputs": [
    {
     "data": {
      "text/html": [
       "\n",
       "  <div id=\"df-06f59e12-a6d3-4637-b264-78f3f38542bf\">\n",
       "    <div class=\"colab-df-container\">\n",
       "      <div>\n",
       "<style scoped>\n",
       "    .dataframe tbody tr th:only-of-type {\n",
       "        vertical-align: middle;\n",
       "    }\n",
       "\n",
       "    .dataframe tbody tr th {\n",
       "        vertical-align: top;\n",
       "    }\n",
       "\n",
       "    .dataframe thead th {\n",
       "        text-align: right;\n",
       "    }\n",
       "</style>\n",
       "<table border=\"1\" class=\"dataframe\">\n",
       "  <thead>\n",
       "    <tr style=\"text-align: right;\">\n",
       "      <th></th>\n",
       "      <th>Subject area of degree</th>\n",
       "      <th>Country of provider</th>\n",
       "      <th>Provider type</th>\n",
       "      <th>Level of qualification obtained</th>\n",
       "      <th>Mode of former study</th>\n",
       "      <th>Skill group</th>\n",
       "      <th>Work population marker</th>\n",
       "      <th>Salary band</th>\n",
       "      <th>Academic year</th>\n",
       "      <th>Number</th>\n",
       "      <th>Percent</th>\n",
       "    </tr>\n",
       "  </thead>\n",
       "  <tbody>\n",
       "    <tr>\n",
       "      <th>0</th>\n",
       "      <td>(1) Medicine &amp; dentistry</td>\n",
       "      <td>All</td>\n",
       "      <td>All</td>\n",
       "      <td>All</td>\n",
       "      <td>All</td>\n",
       "      <td>All</td>\n",
       "      <td>Paid employment is an activity</td>\n",
       "      <td>15000</td>\n",
       "      <td>2018/19</td>\n",
       "      <td>5</td>\n",
       "      <td>0%</td>\n",
       "    </tr>\n",
       "    <tr>\n",
       "      <th>1</th>\n",
       "      <td>(1) Medicine &amp; dentistry</td>\n",
       "      <td>All</td>\n",
       "      <td>All</td>\n",
       "      <td>All postgraduate</td>\n",
       "      <td>All</td>\n",
       "      <td>All</td>\n",
       "      <td>Paid employment is an activity</td>\n",
       "      <td>15000</td>\n",
       "      <td>2018/19</td>\n",
       "      <td>5</td>\n",
       "      <td>0%</td>\n",
       "    </tr>\n",
       "    <tr>\n",
       "      <th>2</th>\n",
       "      <td>(1) Medicine &amp; dentistry</td>\n",
       "      <td>All</td>\n",
       "      <td>All</td>\n",
       "      <td>All undergraduate</td>\n",
       "      <td>All</td>\n",
       "      <td>All</td>\n",
       "      <td>Paid employment is an activity</td>\n",
       "      <td>15000</td>\n",
       "      <td>2018/19</td>\n",
       "      <td>5</td>\n",
       "      <td>0%</td>\n",
       "    </tr>\n",
       "    <tr>\n",
       "      <th>3</th>\n",
       "      <td>(1) Medicine &amp; dentistry</td>\n",
       "      <td>All</td>\n",
       "      <td>All</td>\n",
       "      <td>First degree</td>\n",
       "      <td>All</td>\n",
       "      <td>All</td>\n",
       "      <td>Paid employment is an activity</td>\n",
       "      <td>15000</td>\n",
       "      <td>2018/19</td>\n",
       "      <td>0</td>\n",
       "      <td>0%</td>\n",
       "    </tr>\n",
       "    <tr>\n",
       "      <th>4</th>\n",
       "      <td>(1) Medicine &amp; dentistry</td>\n",
       "      <td>All</td>\n",
       "      <td>All</td>\n",
       "      <td>Other undergraduate</td>\n",
       "      <td>All</td>\n",
       "      <td>All</td>\n",
       "      <td>Paid employment is an activity</td>\n",
       "      <td>15000</td>\n",
       "      <td>2018/19</td>\n",
       "      <td>0</td>\n",
       "      <td>7%</td>\n",
       "    </tr>\n",
       "  </tbody>\n",
       "</table>\n",
       "</div>\n",
       "      <button class=\"colab-df-convert\" onclick=\"convertToInteractive('df-06f59e12-a6d3-4637-b264-78f3f38542bf')\"\n",
       "              title=\"Convert this dataframe to an interactive table.\"\n",
       "              style=\"display:none;\">\n",
       "        \n",
       "  <svg xmlns=\"http://www.w3.org/2000/svg\" height=\"24px\"viewBox=\"0 0 24 24\"\n",
       "       width=\"24px\">\n",
       "    <path d=\"M0 0h24v24H0V0z\" fill=\"none\"/>\n",
       "    <path d=\"M18.56 5.44l.94 2.06.94-2.06 2.06-.94-2.06-.94-.94-2.06-.94 2.06-2.06.94zm-11 1L8.5 8.5l.94-2.06 2.06-.94-2.06-.94L8.5 2.5l-.94 2.06-2.06.94zm10 10l.94 2.06.94-2.06 2.06-.94-2.06-.94-.94-2.06-.94 2.06-2.06.94z\"/><path d=\"M17.41 7.96l-1.37-1.37c-.4-.4-.92-.59-1.43-.59-.52 0-1.04.2-1.43.59L10.3 9.45l-7.72 7.72c-.78.78-.78 2.05 0 2.83L4 21.41c.39.39.9.59 1.41.59.51 0 1.02-.2 1.41-.59l7.78-7.78 2.81-2.81c.8-.78.8-2.07 0-2.86zM5.41 20L4 18.59l7.72-7.72 1.47 1.35L5.41 20z\"/>\n",
       "  </svg>\n",
       "      </button>\n",
       "      \n",
       "  <style>\n",
       "    .colab-df-container {\n",
       "      display:flex;\n",
       "      flex-wrap:wrap;\n",
       "      gap: 12px;\n",
       "    }\n",
       "\n",
       "    .colab-df-convert {\n",
       "      background-color: #E8F0FE;\n",
       "      border: none;\n",
       "      border-radius: 50%;\n",
       "      cursor: pointer;\n",
       "      display: none;\n",
       "      fill: #1967D2;\n",
       "      height: 32px;\n",
       "      padding: 0 0 0 0;\n",
       "      width: 32px;\n",
       "    }\n",
       "\n",
       "    .colab-df-convert:hover {\n",
       "      background-color: #E2EBFA;\n",
       "      box-shadow: 0px 1px 2px rgba(60, 64, 67, 0.3), 0px 1px 3px 1px rgba(60, 64, 67, 0.15);\n",
       "      fill: #174EA6;\n",
       "    }\n",
       "\n",
       "    [theme=dark] .colab-df-convert {\n",
       "      background-color: #3B4455;\n",
       "      fill: #D2E3FC;\n",
       "    }\n",
       "\n",
       "    [theme=dark] .colab-df-convert:hover {\n",
       "      background-color: #434B5C;\n",
       "      box-shadow: 0px 1px 3px 1px rgba(0, 0, 0, 0.15);\n",
       "      filter: drop-shadow(0px 1px 2px rgba(0, 0, 0, 0.3));\n",
       "      fill: #FFFFFF;\n",
       "    }\n",
       "  </style>\n",
       "\n",
       "      <script>\n",
       "        const buttonEl =\n",
       "          document.querySelector('#df-06f59e12-a6d3-4637-b264-78f3f38542bf button.colab-df-convert');\n",
       "        buttonEl.style.display =\n",
       "          google.colab.kernel.accessAllowed ? 'block' : 'none';\n",
       "\n",
       "        async function convertToInteractive(key) {\n",
       "          const element = document.querySelector('#df-06f59e12-a6d3-4637-b264-78f3f38542bf');\n",
       "          const dataTable =\n",
       "            await google.colab.kernel.invokeFunction('convertToInteractive',\n",
       "                                                     [key], {});\n",
       "          if (!dataTable) return;\n",
       "\n",
       "          const docLinkHtml = 'Like what you see? Visit the ' +\n",
       "            '<a target=\"_blank\" href=https://colab.research.google.com/notebooks/data_table.ipynb>data table notebook</a>'\n",
       "            + ' to learn more about interactive tables.';\n",
       "          element.innerHTML = '';\n",
       "          dataTable['output_type'] = 'display_data';\n",
       "          await google.colab.output.renderOutput(dataTable, element);\n",
       "          const docLink = document.createElement('div');\n",
       "          docLink.innerHTML = docLinkHtml;\n",
       "          element.appendChild(docLink);\n",
       "        }\n",
       "      </script>\n",
       "    </div>\n",
       "  </div>\n",
       "  "
      ],
      "text/plain": [
       "     Subject area of degree Country of provider  ... Number Percent\n",
       "0  (1) Medicine & dentistry                 All  ...      5      0%\n",
       "1  (1) Medicine & dentistry                 All  ...      5      0%\n",
       "2  (1) Medicine & dentistry                 All  ...      5      0%\n",
       "3  (1) Medicine & dentistry                 All  ...      0      0%\n",
       "4  (1) Medicine & dentistry                 All  ...      0      7%\n",
       "\n",
       "[5 rows x 11 columns]"
      ]
     },
     "execution_count": 85,
     "metadata": {},
     "output_type": "execute_result"
    }
   ],
   "source": [
    "#df2[df2['Salary band'] == \"Less than £15,000\"].loc['Salary band'] = 15000\n",
    "df2.loc[df2['Salary band'] == 'Less than £15,000','Salary band'] = 15000\n",
    "df2.loc[df2['Salary band'] == '','Salary band'] = 15000\n",
    "df2.head()"
   ]
  },
  {
   "cell_type": "code",
   "execution_count": null,
   "metadata": {
    "id": "1yU3LrUtKOj1"
   },
   "outputs": [],
   "source": [
    "d = {\n",
    "'Less than £15,000' : 15_000, \n",
    "'Total' : -1, \n",
    "'£15,000 - £17,999' : 16_500,\n",
    "'£18,000 - £20,999' : 19_500,\n",
    " '£21,000 - £23,999' : 22_500,\n",
    " '£24,000 - £26,999' : 25_500,\n",
    "'£27,000 - £29,999' : 28_500,\n",
    " '£30,000 - £32,999' : 31_500,\n",
    " '£33,000 - £35,999' : 34_500,\n",
    "'£36,000 - £38,999' : 37_500,\n",
    " '£39,000 - £41,999' : 40_500, \n",
    "'£42,000 - £44,999' : 43_500,\n",
    "'£45,000 - £47,999' : 46_500, \n",
    "'£48,000 - £50,999' : 49_500,\n",
    " '£51,000+' : 51_000\n",
    "}\n",
    "for k, v in d.items():\n",
    "    df2.loc[df2['Salary band'] == k,'Salary band'] = v"
   ]
  },
  {
   "cell_type": "code",
   "execution_count": null,
   "metadata": {
    "colab": {
     "base_uri": "https://localhost:8080/",
     "height": 458
    },
    "id": "V6pAW5SkLHVL",
    "outputId": "4f0da633-db14-4b70-fbeb-bbcbc19ec475"
   },
   "outputs": [
    {
     "data": {
      "text/html": [
       "\n",
       "  <div id=\"df-69037d52-5b72-448c-ba59-91f5e30c97ab\">\n",
       "    <div class=\"colab-df-container\">\n",
       "      <div>\n",
       "<style scoped>\n",
       "    .dataframe tbody tr th:only-of-type {\n",
       "        vertical-align: middle;\n",
       "    }\n",
       "\n",
       "    .dataframe tbody tr th {\n",
       "        vertical-align: top;\n",
       "    }\n",
       "\n",
       "    .dataframe thead th {\n",
       "        text-align: right;\n",
       "    }\n",
       "</style>\n",
       "<table border=\"1\" class=\"dataframe\">\n",
       "  <thead>\n",
       "    <tr style=\"text-align: right;\">\n",
       "      <th></th>\n",
       "      <th>Subject area of degree</th>\n",
       "      <th>Country of provider</th>\n",
       "      <th>Provider type</th>\n",
       "      <th>Level of qualification obtained</th>\n",
       "      <th>Mode of former study</th>\n",
       "      <th>Skill group</th>\n",
       "      <th>Work population marker</th>\n",
       "      <th>Salary band</th>\n",
       "      <th>Academic year</th>\n",
       "      <th>Number</th>\n",
       "      <th>Percent</th>\n",
       "    </tr>\n",
       "  </thead>\n",
       "  <tbody>\n",
       "    <tr>\n",
       "      <th>0</th>\n",
       "      <td>(1) Medicine &amp; dentistry</td>\n",
       "      <td>All</td>\n",
       "      <td>All</td>\n",
       "      <td>All</td>\n",
       "      <td>All</td>\n",
       "      <td>All</td>\n",
       "      <td>Paid employment is an activity</td>\n",
       "      <td>15000</td>\n",
       "      <td>2018/19</td>\n",
       "      <td>5</td>\n",
       "      <td>0%</td>\n",
       "    </tr>\n",
       "    <tr>\n",
       "      <th>1</th>\n",
       "      <td>(1) Medicine &amp; dentistry</td>\n",
       "      <td>All</td>\n",
       "      <td>All</td>\n",
       "      <td>All postgraduate</td>\n",
       "      <td>All</td>\n",
       "      <td>All</td>\n",
       "      <td>Paid employment is an activity</td>\n",
       "      <td>15000</td>\n",
       "      <td>2018/19</td>\n",
       "      <td>5</td>\n",
       "      <td>0%</td>\n",
       "    </tr>\n",
       "    <tr>\n",
       "      <th>2</th>\n",
       "      <td>(1) Medicine &amp; dentistry</td>\n",
       "      <td>All</td>\n",
       "      <td>All</td>\n",
       "      <td>All undergraduate</td>\n",
       "      <td>All</td>\n",
       "      <td>All</td>\n",
       "      <td>Paid employment is an activity</td>\n",
       "      <td>15000</td>\n",
       "      <td>2018/19</td>\n",
       "      <td>5</td>\n",
       "      <td>0%</td>\n",
       "    </tr>\n",
       "    <tr>\n",
       "      <th>3</th>\n",
       "      <td>(1) Medicine &amp; dentistry</td>\n",
       "      <td>All</td>\n",
       "      <td>All</td>\n",
       "      <td>First degree</td>\n",
       "      <td>All</td>\n",
       "      <td>All</td>\n",
       "      <td>Paid employment is an activity</td>\n",
       "      <td>15000</td>\n",
       "      <td>2018/19</td>\n",
       "      <td>0</td>\n",
       "      <td>0%</td>\n",
       "    </tr>\n",
       "    <tr>\n",
       "      <th>4</th>\n",
       "      <td>(1) Medicine &amp; dentistry</td>\n",
       "      <td>All</td>\n",
       "      <td>All</td>\n",
       "      <td>Other undergraduate</td>\n",
       "      <td>All</td>\n",
       "      <td>All</td>\n",
       "      <td>Paid employment is an activity</td>\n",
       "      <td>15000</td>\n",
       "      <td>2018/19</td>\n",
       "      <td>0</td>\n",
       "      <td>7%</td>\n",
       "    </tr>\n",
       "  </tbody>\n",
       "</table>\n",
       "</div>\n",
       "      <button class=\"colab-df-convert\" onclick=\"convertToInteractive('df-69037d52-5b72-448c-ba59-91f5e30c97ab')\"\n",
       "              title=\"Convert this dataframe to an interactive table.\"\n",
       "              style=\"display:none;\">\n",
       "        \n",
       "  <svg xmlns=\"http://www.w3.org/2000/svg\" height=\"24px\"viewBox=\"0 0 24 24\"\n",
       "       width=\"24px\">\n",
       "    <path d=\"M0 0h24v24H0V0z\" fill=\"none\"/>\n",
       "    <path d=\"M18.56 5.44l.94 2.06.94-2.06 2.06-.94-2.06-.94-.94-2.06-.94 2.06-2.06.94zm-11 1L8.5 8.5l.94-2.06 2.06-.94-2.06-.94L8.5 2.5l-.94 2.06-2.06.94zm10 10l.94 2.06.94-2.06 2.06-.94-2.06-.94-.94-2.06-.94 2.06-2.06.94z\"/><path d=\"M17.41 7.96l-1.37-1.37c-.4-.4-.92-.59-1.43-.59-.52 0-1.04.2-1.43.59L10.3 9.45l-7.72 7.72c-.78.78-.78 2.05 0 2.83L4 21.41c.39.39.9.59 1.41.59.51 0 1.02-.2 1.41-.59l7.78-7.78 2.81-2.81c.8-.78.8-2.07 0-2.86zM5.41 20L4 18.59l7.72-7.72 1.47 1.35L5.41 20z\"/>\n",
       "  </svg>\n",
       "      </button>\n",
       "      \n",
       "  <style>\n",
       "    .colab-df-container {\n",
       "      display:flex;\n",
       "      flex-wrap:wrap;\n",
       "      gap: 12px;\n",
       "    }\n",
       "\n",
       "    .colab-df-convert {\n",
       "      background-color: #E8F0FE;\n",
       "      border: none;\n",
       "      border-radius: 50%;\n",
       "      cursor: pointer;\n",
       "      display: none;\n",
       "      fill: #1967D2;\n",
       "      height: 32px;\n",
       "      padding: 0 0 0 0;\n",
       "      width: 32px;\n",
       "    }\n",
       "\n",
       "    .colab-df-convert:hover {\n",
       "      background-color: #E2EBFA;\n",
       "      box-shadow: 0px 1px 2px rgba(60, 64, 67, 0.3), 0px 1px 3px 1px rgba(60, 64, 67, 0.15);\n",
       "      fill: #174EA6;\n",
       "    }\n",
       "\n",
       "    [theme=dark] .colab-df-convert {\n",
       "      background-color: #3B4455;\n",
       "      fill: #D2E3FC;\n",
       "    }\n",
       "\n",
       "    [theme=dark] .colab-df-convert:hover {\n",
       "      background-color: #434B5C;\n",
       "      box-shadow: 0px 1px 3px 1px rgba(0, 0, 0, 0.15);\n",
       "      filter: drop-shadow(0px 1px 2px rgba(0, 0, 0, 0.3));\n",
       "      fill: #FFFFFF;\n",
       "    }\n",
       "  </style>\n",
       "\n",
       "      <script>\n",
       "        const buttonEl =\n",
       "          document.querySelector('#df-69037d52-5b72-448c-ba59-91f5e30c97ab button.colab-df-convert');\n",
       "        buttonEl.style.display =\n",
       "          google.colab.kernel.accessAllowed ? 'block' : 'none';\n",
       "\n",
       "        async function convertToInteractive(key) {\n",
       "          const element = document.querySelector('#df-69037d52-5b72-448c-ba59-91f5e30c97ab');\n",
       "          const dataTable =\n",
       "            await google.colab.kernel.invokeFunction('convertToInteractive',\n",
       "                                                     [key], {});\n",
       "          if (!dataTable) return;\n",
       "\n",
       "          const docLinkHtml = 'Like what you see? Visit the ' +\n",
       "            '<a target=\"_blank\" href=https://colab.research.google.com/notebooks/data_table.ipynb>data table notebook</a>'\n",
       "            + ' to learn more about interactive tables.';\n",
       "          element.innerHTML = '';\n",
       "          dataTable['output_type'] = 'display_data';\n",
       "          await google.colab.output.renderOutput(dataTable, element);\n",
       "          const docLink = document.createElement('div');\n",
       "          docLink.innerHTML = docLinkHtml;\n",
       "          element.appendChild(docLink);\n",
       "        }\n",
       "      </script>\n",
       "    </div>\n",
       "  </div>\n",
       "  "
      ],
      "text/plain": [
       "     Subject area of degree Country of provider  ... Number Percent\n",
       "0  (1) Medicine & dentistry                 All  ...      5      0%\n",
       "1  (1) Medicine & dentistry                 All  ...      5      0%\n",
       "2  (1) Medicine & dentistry                 All  ...      5      0%\n",
       "3  (1) Medicine & dentistry                 All  ...      0      0%\n",
       "4  (1) Medicine & dentistry                 All  ...      0      7%\n",
       "\n",
       "[5 rows x 11 columns]"
      ]
     },
     "execution_count": 100,
     "metadata": {},
     "output_type": "execute_result"
    }
   ],
   "source": [
    "df2.head()"
   ]
  },
  {
   "cell_type": "code",
   "execution_count": null,
   "metadata": {
    "colab": {
     "base_uri": "https://localhost:8080/",
     "height": 206
    },
    "id": "lIuOFwZPMZmk",
    "outputId": "fd83465c-9a24-4fbd-9d8d-de9c9d08d00f"
   },
   "outputs": [
    {
     "data": {
      "text/html": [
       "\n",
       "  <div id=\"df-eec0464f-cb8c-4857-853e-5b0aa0616fd3\">\n",
       "    <div class=\"colab-df-container\">\n",
       "      <div>\n",
       "<style scoped>\n",
       "    .dataframe tbody tr th:only-of-type {\n",
       "        vertical-align: middle;\n",
       "    }\n",
       "\n",
       "    .dataframe tbody tr th {\n",
       "        vertical-align: top;\n",
       "    }\n",
       "\n",
       "    .dataframe thead th {\n",
       "        text-align: right;\n",
       "    }\n",
       "</style>\n",
       "<table border=\"1\" class=\"dataframe\">\n",
       "  <thead>\n",
       "    <tr style=\"text-align: right;\">\n",
       "      <th></th>\n",
       "      <th>Subject area of degree</th>\n",
       "      <th>Salary band</th>\n",
       "      <th>Number</th>\n",
       "    </tr>\n",
       "  </thead>\n",
       "  <tbody>\n",
       "    <tr>\n",
       "      <th>1</th>\n",
       "      <td>(1) Medicine &amp; dentistry</td>\n",
       "      <td>15000</td>\n",
       "      <td>260</td>\n",
       "    </tr>\n",
       "    <tr>\n",
       "      <th>2</th>\n",
       "      <td>(1) Medicine &amp; dentistry</td>\n",
       "      <td>16500</td>\n",
       "      <td>1480</td>\n",
       "    </tr>\n",
       "    <tr>\n",
       "      <th>3</th>\n",
       "      <td>(1) Medicine &amp; dentistry</td>\n",
       "      <td>19500</td>\n",
       "      <td>5650</td>\n",
       "    </tr>\n",
       "    <tr>\n",
       "      <th>4</th>\n",
       "      <td>(1) Medicine &amp; dentistry</td>\n",
       "      <td>22500</td>\n",
       "      <td>8550</td>\n",
       "    </tr>\n",
       "    <tr>\n",
       "      <th>5</th>\n",
       "      <td>(1) Medicine &amp; dentistry</td>\n",
       "      <td>25500</td>\n",
       "      <td>19240</td>\n",
       "    </tr>\n",
       "  </tbody>\n",
       "</table>\n",
       "</div>\n",
       "      <button class=\"colab-df-convert\" onclick=\"convertToInteractive('df-eec0464f-cb8c-4857-853e-5b0aa0616fd3')\"\n",
       "              title=\"Convert this dataframe to an interactive table.\"\n",
       "              style=\"display:none;\">\n",
       "        \n",
       "  <svg xmlns=\"http://www.w3.org/2000/svg\" height=\"24px\"viewBox=\"0 0 24 24\"\n",
       "       width=\"24px\">\n",
       "    <path d=\"M0 0h24v24H0V0z\" fill=\"none\"/>\n",
       "    <path d=\"M18.56 5.44l.94 2.06.94-2.06 2.06-.94-2.06-.94-.94-2.06-.94 2.06-2.06.94zm-11 1L8.5 8.5l.94-2.06 2.06-.94-2.06-.94L8.5 2.5l-.94 2.06-2.06.94zm10 10l.94 2.06.94-2.06 2.06-.94-2.06-.94-.94-2.06-.94 2.06-2.06.94z\"/><path d=\"M17.41 7.96l-1.37-1.37c-.4-.4-.92-.59-1.43-.59-.52 0-1.04.2-1.43.59L10.3 9.45l-7.72 7.72c-.78.78-.78 2.05 0 2.83L4 21.41c.39.39.9.59 1.41.59.51 0 1.02-.2 1.41-.59l7.78-7.78 2.81-2.81c.8-.78.8-2.07 0-2.86zM5.41 20L4 18.59l7.72-7.72 1.47 1.35L5.41 20z\"/>\n",
       "  </svg>\n",
       "      </button>\n",
       "      \n",
       "  <style>\n",
       "    .colab-df-container {\n",
       "      display:flex;\n",
       "      flex-wrap:wrap;\n",
       "      gap: 12px;\n",
       "    }\n",
       "\n",
       "    .colab-df-convert {\n",
       "      background-color: #E8F0FE;\n",
       "      border: none;\n",
       "      border-radius: 50%;\n",
       "      cursor: pointer;\n",
       "      display: none;\n",
       "      fill: #1967D2;\n",
       "      height: 32px;\n",
       "      padding: 0 0 0 0;\n",
       "      width: 32px;\n",
       "    }\n",
       "\n",
       "    .colab-df-convert:hover {\n",
       "      background-color: #E2EBFA;\n",
       "      box-shadow: 0px 1px 2px rgba(60, 64, 67, 0.3), 0px 1px 3px 1px rgba(60, 64, 67, 0.15);\n",
       "      fill: #174EA6;\n",
       "    }\n",
       "\n",
       "    [theme=dark] .colab-df-convert {\n",
       "      background-color: #3B4455;\n",
       "      fill: #D2E3FC;\n",
       "    }\n",
       "\n",
       "    [theme=dark] .colab-df-convert:hover {\n",
       "      background-color: #434B5C;\n",
       "      box-shadow: 0px 1px 3px 1px rgba(0, 0, 0, 0.15);\n",
       "      filter: drop-shadow(0px 1px 2px rgba(0, 0, 0, 0.3));\n",
       "      fill: #FFFFFF;\n",
       "    }\n",
       "  </style>\n",
       "\n",
       "      <script>\n",
       "        const buttonEl =\n",
       "          document.querySelector('#df-eec0464f-cb8c-4857-853e-5b0aa0616fd3 button.colab-df-convert');\n",
       "        buttonEl.style.display =\n",
       "          google.colab.kernel.accessAllowed ? 'block' : 'none';\n",
       "\n",
       "        async function convertToInteractive(key) {\n",
       "          const element = document.querySelector('#df-eec0464f-cb8c-4857-853e-5b0aa0616fd3');\n",
       "          const dataTable =\n",
       "            await google.colab.kernel.invokeFunction('convertToInteractive',\n",
       "                                                     [key], {});\n",
       "          if (!dataTable) return;\n",
       "\n",
       "          const docLinkHtml = 'Like what you see? Visit the ' +\n",
       "            '<a target=\"_blank\" href=https://colab.research.google.com/notebooks/data_table.ipynb>data table notebook</a>'\n",
       "            + ' to learn more about interactive tables.';\n",
       "          element.innerHTML = '';\n",
       "          dataTable['output_type'] = 'display_data';\n",
       "          await google.colab.output.renderOutput(dataTable, element);\n",
       "          const docLink = document.createElement('div');\n",
       "          docLink.innerHTML = docLinkHtml;\n",
       "          element.appendChild(docLink);\n",
       "        }\n",
       "      </script>\n",
       "    </div>\n",
       "  </div>\n",
       "  "
      ],
      "text/plain": [
       "     Subject area of degree  Salary band  Number\n",
       "1  (1) Medicine & dentistry        15000     260\n",
       "2  (1) Medicine & dentistry        16500    1480\n",
       "3  (1) Medicine & dentistry        19500    5650\n",
       "4  (1) Medicine & dentistry        22500    8550\n",
       "5  (1) Medicine & dentistry        25500   19240"
      ]
     },
     "execution_count": 139,
     "metadata": {},
     "output_type": "execute_result"
    }
   ],
   "source": [
    "gb = df2.groupby(by=['Subject area of degree', 'Salary band',])['Number'].sum().reset_index()\n",
    "gb = gb[gb['Salary band']!= -1]\n",
    "gb.head()"
   ]
  },
  {
   "cell_type": "code",
   "execution_count": null,
   "metadata": {
    "colab": {
     "base_uri": "https://localhost:8080/",
     "height": 588
    },
    "id": "x_c-9cNyNubB",
    "outputId": "6f6106ff-db93-48fa-f871-0c8a587016fe"
   },
   "outputs": [
    {
     "data": {
      "text/plain": [
       "<matplotlib.axes._subplots.AxesSubplot at 0x7fd63238ec90>"
      ]
     },
     "execution_count": 140,
     "metadata": {},
     "output_type": "execute_result"
    },
    {
     "data": {
      "image/png": "[encoded data removed]",
      "text/plain": [
       "<Figure size 914.4x667.44 with 1 Axes>"
      ]
     },
     "metadata": {},
     "output_type": "display_data"
    }
   ],
   "source": [
    "sns.barplot(data=gb[gb['Subject area of degree'] == '(1) Medicine & dentistry'], x=\"Salary band\", y=\"Number\")"
   ]
  },
  {
   "cell_type": "code",
   "execution_count": null,
   "metadata": {
    "colab": {
     "base_uri": "https://localhost:8080/"
    },
    "id": "DMMKVpdgP3XV",
    "outputId": "9767039e-cb32-4a50-93d9-90c4c0527912"
   },
   "outputs": [
    {
     "data": {
      "text/plain": [
       "array(['(1) Medicine & dentistry', '(2) Subjects allied to medicine',\n",
       "       '(3) Biological sciences', '(4) Veterinary science',\n",
       "       '(5) Agriculture & related subjects', '(6) Physical sciences',\n",
       "       '(7) Mathematical sciences', '(8) Computer science',\n",
       "       '(9) Engineering & technology',\n",
       "       '(A) Architecture, building & planning', '(B) Social studies',\n",
       "       '(C) Law', '(D) Business & administrative studies',\n",
       "       '(E) Mass communications & documentation', '(F) Languages',\n",
       "       '(G) Historical & philosophical studies',\n",
       "       '(H) Creative arts & design', '(I) Education', '(J) Combined',\n",
       "       'Total', 'Total - Non-science subject areas',\n",
       "       'Total - Science subject areas'], dtype=object)"
      ]
     },
     "execution_count": 143,
     "metadata": {},
     "output_type": "execute_result"
    }
   ],
   "source": [
    "df2['Subject area of degree'].unique()"
   ]
  },
  {
   "cell_type": "code",
   "execution_count": null,
   "metadata": {
    "colab": {
     "base_uri": "https://localhost:8080/",
     "height": 604
    },
    "id": "fMWeJKHtR1EI",
    "outputId": "72929fd6-13e9-4fd2-e532-afec9f38fca2"
   },
   "outputs": [
    {
     "data": {
      "text/plain": [
       "[(0.0, 1800000.0), Text(0.5, 1.0, 'Non-science')]"
      ]
     },
     "execution_count": 166,
     "metadata": {},
     "output_type": "execute_result"
    },
    {
     "data": {
      "image/png": "[encoded data removed]",
      "text/plain": [
       "<Figure size 914.4x667.44 with 1 Axes>"
      ]
     },
     "metadata": {},
     "output_type": "display_data"
    }
   ],
   "source": [
    "sns.barplot(data=gb[gb['Subject area of degree'] == 'Total - Non-science subject areas'], x=\"Salary band\", y=\"Number\").set(ylim=(0,1.8e6), title='Non-science')"
   ]
  },
  {
   "cell_type": "code",
   "execution_count": null,
   "metadata": {
    "colab": {
     "base_uri": "https://localhost:8080/",
     "height": 604
    },
    "id": "XNkj4dn4ST13",
    "outputId": "cc3f8c09-a69d-41fd-eeac-9ff912874eac"
   },
   "outputs": [
    {
     "data": {
      "text/plain": [
       "[(0.0, 1800000.0), Text(0.5, 1.0, 'Science!')]"
      ]
     },
     "execution_count": 175,
     "metadata": {},
     "output_type": "execute_result"
    },
    {
     "data": {
      "image/png": "[encoded data removed]",
      "text/plain": [
       "<Figure size 914.4x667.44 with 1 Axes>"
      ]
     },
     "metadata": {},
     "output_type": "display_data"
    }
   ],
   "source": [
    "sns.barplot(data=gb[gb['Subject area of degree'] == 'Total - Science subject areas'], x=\"Salary band\", y=\"Number\", ).set(ylim=(0,1.8e6), title='Science!')"
   ]
  },
  {
   "cell_type": "code",
   "execution_count": null,
   "metadata": {
    "id": "GXSeV6oRYgyK"
   },
   "outputs": [],
   "source": [
    "sns.barplot(data=gb[gb['Subject area of degree'] == 'Total - Science subject areas'], x=\"Salary band\", y=\"Number\", ).set(ylim=(0,1.8e6), title='Science!')"
   ]
  },
  {
   "cell_type": "code",
   "execution_count": null,
   "metadata": {
    "id": "mkYwf70iSlAp"
   },
   "outputs": [],
   "source": [
    "import pandas as pd\n",
    "import seaborn as sns\n",
    "import matplotlib.pyplot as plt\n",
    "import re\n",
    "\n",
    "regex = re.compile(\n",
    "    r'\\$?(?:(?:[1-9][0-9]{0,2})(?:,[0-9]{3})+|[1-9][0-9]*|0)(?:[\\.,][0-9][0-9]?)?(?![0-9]+)'\n",
    ")\n",
    "\n",
    "df2 = pd.read_csv('Table-25-2018-19.csv',header=14)\n",
    "\n",
    "array = df2['Salary band'].unique()\n",
    "print(array)\n",
    "dict1 = {}\n",
    "for item in array:\n",
    "    dict1[item] = regex.findall(item)\n",
    "    if not dict1[item] == []:\n",
    "        dict1[item] = dict1[item][len(dict1[item])-1]\n",
    "        dict1[item] = dict1[item].replace(',','')\n",
    "        dict1[item] = int(dict1[item])\n",
    "\n",
    "for key in dict1.keys():\n",
    "    if not dict1[key] == []:\n",
    "        df2.loc[df2['Salary band'] == key,'Salary band'] = dict1[key]"
   ]
  }
 ],
 "metadata": {
  "colab": {
   "collapsed_sections": [],
   "include_colab_link": true,
   "name": "data.ipynb",
   "provenance": []
  },
  "kernelspec": {
   "display_name": "Python 3 (ipykernel)",
   "language": "python",
   "name": "python3"
  },
  "language_info": {
   "codemirror_mode": {
    "name": "ipython",
    "version": 3
   },
   "file_extension": ".py",
   "mimetype": "text/x-python",
   "name": "python",
   "nbconvert_exporter": "python",
   "pygments_lexer": "ipython3",
   "version": "3.9.10"
  }
 },
 "nbformat": 4,
 "nbformat_minor": 4
}
